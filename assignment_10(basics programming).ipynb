{
 "cells": [
  {
   "cell_type": "markdown",
   "id": "e9a0ecf1",
   "metadata": {},
   "source": [
    "## Assiginment_10 python programming (basics)"
   ]
  },
  {
   "cell_type": "markdown",
   "id": "665d2335",
   "metadata": {},
   "source": [
    "###### 1.Write a Python program to find sum of elements in list?"
   ]
  },
  {
   "cell_type": "code",
   "execution_count": 31,
   "id": "2b249085",
   "metadata": {},
   "outputs": [
    {
     "name": "stdout",
     "output_type": "stream",
     "text": [
      "enter the list elements\n",
      "1 2 3 4 5\n",
      "15\n"
     ]
    }
   ],
   "source": [
    "print(\"enter the list elements\")\n",
    "a=list(map(int,input().split()))\n",
    "s=0\n",
    "for i in a:\n",
    "    s+=i\n",
    "print(s)"
   ]
  },
  {
   "cell_type": "markdown",
   "id": "6549cab6",
   "metadata": {},
   "source": [
    "###### 2.Write a Python program to Multiply all numbers in the list?"
   ]
  },
  {
   "cell_type": "code",
   "execution_count": 2,
   "id": "1314e642",
   "metadata": {},
   "outputs": [
    {
     "name": "stdout",
     "output_type": "stream",
     "text": [
      "enter the list elements\n",
      "1 2 3 4 5\n",
      "120\n"
     ]
    }
   ],
   "source": [
    "print(\"enter the list elements\")\n",
    "a=list(map(int,input().split()))\n",
    "p=1\n",
    "for i in a:\n",
    "    p*=i\n",
    "print(p)"
   ]
  },
  {
   "cell_type": "markdown",
   "id": "c4a7512d",
   "metadata": {},
   "source": [
    "###### 3.Write a Python program to find smallest number in a list?"
   ]
  },
  {
   "cell_type": "code",
   "execution_count": 4,
   "id": "8e77e0e6",
   "metadata": {},
   "outputs": [
    {
     "name": "stdout",
     "output_type": "stream",
     "text": [
      "enter the list elements\n",
      "4 2 3 6 4 \n",
      "the smallest number is 2\n"
     ]
    }
   ],
   "source": [
    "print(\"enter the list elements\")\n",
    "a=list(map(int,input().split()))\n",
    "m=a[0]\n",
    "for i in range(1,len(a)):\n",
    "    if a[i]<m:\n",
    "        m=a[i]\n",
    "print(f\"the smallest number is {m}\")"
   ]
  },
  {
   "cell_type": "markdown",
   "id": "09643472",
   "metadata": {},
   "source": [
    "###### 4.Write a Python program to find largest number in a list?"
   ]
  },
  {
   "cell_type": "code",
   "execution_count": 2,
   "id": "4e1f4e15",
   "metadata": {},
   "outputs": [
    {
     "name": "stdout",
     "output_type": "stream",
     "text": [
      "enter the list elements\n",
      "23 43 56 76\n",
      "the largest number is 76\n"
     ]
    }
   ],
   "source": [
    "print(\"enter the list elements\")\n",
    "a=list(map(int,input().split()))\n",
    "ma=a[0]\n",
    "for i in range(1,len(a)):\n",
    "    if a[i]>ma:\n",
    "        ma=a[i]\n",
    "print(f\"the largest number is {ma}\")"
   ]
  },
  {
   "cell_type": "markdown",
   "id": "87f2c8d7",
   "metadata": {},
   "source": [
    "###### 5.Write a Python program to find second largest number in a list?"
   ]
  },
  {
   "cell_type": "code",
   "execution_count": 7,
   "id": "c1b164d5",
   "metadata": {},
   "outputs": [
    {
     "name": "stdout",
     "output_type": "stream",
     "text": [
      "enter the list elements\n",
      "2 3 2 4 34 26 28 56 56 43 21 28 12\n",
      "the second highest number is 26\n"
     ]
    }
   ],
   "source": [
    "print(\"enter the list elements\")\n",
    "a=list(map(int,input().split()))\n",
    "a.sort()\n",
    "a=set(a)\n",
    "a=list(a)\n",
    "print(f\"the second highest number is {a[-2]}\")"
   ]
  },
  {
   "cell_type": "markdown",
   "id": "3ee73f9c",
   "metadata": {},
   "source": [
    "###### 6.Write a Python program to find N largest elements from a list?"
   ]
  },
  {
   "cell_type": "code",
   "execution_count": 10,
   "id": "025b1039",
   "metadata": {},
   "outputs": [
    {
     "name": "stdout",
     "output_type": "stream",
     "text": [
      "enter N value: 2\n",
      "enter the list elements\n",
      "2 3 4 5 6 7 8 6 5 4 2 1 3 4 \n",
      "the N highest numbers are [8, 7]\n"
     ]
    }
   ],
   "source": [
    "N=int(input(\"enter N value: \"))\n",
    "print(\"enter the list elements\")\n",
    "a=list(map(int,input().split()))\n",
    "a.sort(reverse=True)\n",
    "print(f\"the N highest numbers are {a[:N]}\")"
   ]
  },
  {
   "cell_type": "markdown",
   "id": "00e337d7",
   "metadata": {},
   "source": [
    "###### 7.Write a Python program to print even numbers in a list?"
   ]
  },
  {
   "cell_type": "code",
   "execution_count": 13,
   "id": "e5fe7327",
   "metadata": {},
   "outputs": [
    {
     "name": "stdout",
     "output_type": "stream",
     "text": [
      "enter the list elements\n",
      "1 2 3 4 5 6 7 8 9 10\n",
      "the even numbers are\n",
      "[2, 4, 6, 8, 10]\n"
     ]
    }
   ],
   "source": [
    "def ev(a):\n",
    "    if a%2==0:\n",
    "        return True\n",
    "    return False\n",
    "print(\"enter the list elements\")\n",
    "a=list(map(int,input().split()))\n",
    "b=list(filter(ev,a))\n",
    "print(\"the even numbers are\")\n",
    "print(b)"
   ]
  },
  {
   "cell_type": "markdown",
   "id": "7598e430",
   "metadata": {},
   "source": [
    "###### 8.Write a Python program to print odd numbers in a List?"
   ]
  },
  {
   "cell_type": "code",
   "execution_count": 2,
   "id": "9bb2f9ed",
   "metadata": {},
   "outputs": [
    {
     "name": "stdout",
     "output_type": "stream",
     "text": [
      "enter the list elements\n",
      "1 2 3 4 5 6 7 8 9 10\n",
      "the odd numbers are\n",
      "[1, 3, 5, 7, 9]\n"
     ]
    }
   ],
   "source": [
    "def od(a):\n",
    "    if a%2==0:\n",
    "        return False\n",
    "    return True\n",
    "print(\"enter the list elements\")\n",
    "a=list(map(int,input().split()))\n",
    "b=list(filter(od,a))\n",
    "print(\"the odd numbers are\")\n",
    "print(b)"
   ]
  },
  {
   "cell_type": "markdown",
   "id": "f45a4168",
   "metadata": {},
   "source": [
    "###### 9.Write a Python program to Remove empty List from List?"
   ]
  },
  {
   "cell_type": "code",
   "execution_count": 9,
   "id": "2d858975",
   "metadata": {},
   "outputs": [
    {
     "name": "stdout",
     "output_type": "stream",
     "text": [
      "list after removing empty list is: \n",
      "[1, 2, 3, 4, 5, 6, 7, 8, 9]\n"
     ]
    }
   ],
   "source": [
    "a=[1,2,3,[],4,5,6,[],7,8,[[]],9]\n",
    "b=[x for x in a if x!=[] and x!=[[]] ]\n",
    "print(\"list after removing empty list is: \")\n",
    "print(b)"
   ]
  },
  {
   "cell_type": "markdown",
   "id": "6ccb9b8a",
   "metadata": {},
   "source": [
    "###### 10.Write a Python program to Cloning or Copying a list?"
   ]
  },
  {
   "cell_type": "code",
   "execution_count": 13,
   "id": "a23de163",
   "metadata": {},
   "outputs": [
    {
     "name": "stdout",
     "output_type": "stream",
     "text": [
      "close of list is:\n",
      "[1, 2, 3, 4, 5]\n",
      "copy of list is:\n",
      "[1, 2, 3, 4, 5]\n"
     ]
    }
   ],
   "source": [
    "import copy\n",
    "a=[1,2,3,4,5]\n",
    "b=copy.copy(a)\n",
    "print(\"close of list is:\")\n",
    "print(b)\n",
    "print(\"copy of list is:\")\n",
    "c=copy.deepcopy(a)\n",
    "print(c)"
   ]
  },
  {
   "cell_type": "markdown",
   "id": "ed7e29f3",
   "metadata": {},
   "source": [
    "###### 11.Write a Python program to Count occurrences of an element in a list?"
   ]
  },
  {
   "cell_type": "code",
   "execution_count": 15,
   "id": "a4e2d3ed",
   "metadata": {},
   "outputs": [
    {
     "name": "stdout",
     "output_type": "stream",
     "text": [
      "enter the list elements\n",
      "1 2 2 3 2 1 2 3 4\n",
      "enter the occuarance element2\n",
      "the element occured for 4 times in the list\n"
     ]
    }
   ],
   "source": [
    "print(\"enter the list elements\")\n",
    "a=list(map(int,input().split()))\n",
    "c=0\n",
    "b=int(input(\"enter the occuarance element\"))\n",
    "for i in a:\n",
    "    if i==b:\n",
    "        c+=1\n",
    "print(f\"the element occured for {c} times in the list\")"
   ]
  }
 ],
 "metadata": {
  "kernelspec": {
   "display_name": "Python 3",
   "language": "python",
   "name": "python3"
  },
  "language_info": {
   "codemirror_mode": {
    "name": "ipython",
    "version": 3
   },
   "file_extension": ".py",
   "mimetype": "text/x-python",
   "name": "python",
   "nbconvert_exporter": "python",
   "pygments_lexer": "ipython3",
   "version": "3.8.8"
  }
 },
 "nbformat": 4,
 "nbformat_minor": 5
}
