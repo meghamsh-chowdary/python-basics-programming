{
 "cells": [
  {
   "cell_type": "markdown",
   "id": "e9a0ecf1",
   "metadata": {},
   "source": [
    "## Assiginment_7 python programming (basics)"
   ]
  },
  {
   "cell_type": "markdown",
   "id": "665d2335",
   "metadata": {},
   "source": [
    "###### 1.Write a Python Program to find sum of array?"
   ]
  },
  {
   "cell_type": "code",
   "execution_count": 2,
   "id": "77c9f78e",
   "metadata": {},
   "outputs": [
    {
     "name": "stdout",
     "output_type": "stream",
     "text": [
      "1 2 3 4\n",
      "10\n"
     ]
    }
   ],
   "source": [
    "a=list(map(int,input().split()))\n",
    "print(sum(a))"
   ]
  },
  {
   "cell_type": "markdown",
   "id": "6549cab6",
   "metadata": {},
   "source": [
    "###### Write a Python Program to find largest element in an array?"
   ]
  },
  {
   "cell_type": "code",
   "execution_count": 3,
   "id": "1314e642",
   "metadata": {},
   "outputs": [
    {
     "name": "stdout",
     "output_type": "stream",
     "text": [
      "1 2 3 4\n",
      "4\n"
     ]
    }
   ],
   "source": [
    "a=list(map(int,input().split()))\n",
    "print(max(a))"
   ]
  },
  {
   "cell_type": "markdown",
   "id": "c4a7512d",
   "metadata": {},
   "source": [
    "###### 3.Write a Python Program for array rotation?"
   ]
  },
  {
   "cell_type": "code",
   "execution_count": 8,
   "id": "d3422328",
   "metadata": {},
   "outputs": [
    {
     "name": "stdout",
     "output_type": "stream",
     "text": [
      "1 2 3 4\n",
      "[4, 3, 2, 1]\n"
     ]
    }
   ],
   "source": [
    "a=list(map(int,input().split()))\n",
    "\n",
    "print(a[::-1])"
   ]
  },
  {
   "cell_type": "markdown",
   "id": "09643472",
   "metadata": {},
   "source": [
    "###### 4.Write a Python Program to Split the array and add the first part to the end?."
   ]
  },
  {
   "cell_type": "code",
   "execution_count": 12,
   "id": "d7a2bbd3",
   "metadata": {},
   "outputs": [
    {
     "name": "stdout",
     "output_type": "stream",
     "text": [
      "1 2 3 4\n",
      "[3, 4, 1, 2]\n"
     ]
    }
   ],
   "source": [
    "a=list(map(int,input().split()))\n",
    "b=a[:len(a)//2]\n",
    "a.extend(b)\n",
    "a=a[2:]\n",
    "print(a)"
   ]
  },
  {
   "cell_type": "markdown",
   "id": "87f2c8d7",
   "metadata": {},
   "source": [
    "###### 5.Write a Python Program to check if given array is Monotonic?"
   ]
  },
  {
   "cell_type": "code",
   "execution_count": 2,
   "id": "c1b164d5",
   "metadata": {},
   "outputs": [
    {
     "name": "stdout",
     "output_type": "stream",
     "text": [
      "enetr the values\n",
      "1\n",
      "True\n"
     ]
    }
   ],
   "source": [
    "print(\"enetr the values\")\n",
    "a=list(map(int,input().split()))\n",
    "b=a\n",
    "if b==sorted(a) or b==sorted(a,reverse=True):\n",
    "    print(True)\n",
    "else:\n",
    "    print(False)"
   ]
  }
 ],
 "metadata": {
  "kernelspec": {
   "display_name": "Python 3",
   "language": "python",
   "name": "python3"
  },
  "language_info": {
   "codemirror_mode": {
    "name": "ipython",
    "version": 3
   },
   "file_extension": ".py",
   "mimetype": "text/x-python",
   "name": "python",
   "nbconvert_exporter": "python",
   "pygments_lexer": "ipython3",
   "version": "3.8.8"
  }
 },
 "nbformat": 4,
 "nbformat_minor": 5
}
