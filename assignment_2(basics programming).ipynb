{
 "cells": [
  {
   "cell_type": "markdown",
   "id": "087fd262",
   "metadata": {},
   "source": [
    "## Assiginment_2 python programming (basics)"
   ]
  },
  {
   "cell_type": "markdown",
   "id": "587d8ab4",
   "metadata": {},
   "source": [
    "###### 1.write a python program to convert kilometers to miles?"
   ]
  },
  {
   "cell_type": "code",
   "execution_count": 31,
   "id": "d0117347",
   "metadata": {},
   "outputs": [
    {
     "name": "stdout",
     "output_type": "stream",
     "text": [
      "enter no of kilometers4.6\n",
      "no of miles is  2.8583065999999997\n"
     ]
    }
   ],
   "source": [
    "a=float(input(\"enter no of kilometers\"))\n",
    "miles=a*0.621371\n",
    "print(\"no of miles is \",miles)"
   ]
  },
  {
   "cell_type": "markdown",
   "id": "52777065",
   "metadata": {},
   "source": [
    "###### 2.write a python program to convert Celsius to Fahrenheit?"
   ]
  },
  {
   "cell_type": "code",
   "execution_count": 34,
   "id": "d0111749",
   "metadata": {},
   "outputs": [
    {
     "name": "stdout",
     "output_type": "stream",
     "text": [
      "enter no of Celsius36.5\n",
      "degrees in fahrenheit is  97.7\n"
     ]
    }
   ],
   "source": [
    "a=float(input(\"enter no of Celsius\"))\n",
    "fah=(a*9/5)+32\n",
    "print(\"degrees in fahrenheit is \",fah)"
   ]
  },
  {
   "cell_type": "markdown",
   "id": "ac9caae1",
   "metadata": {},
   "source": [
    "###### 3.Write a python program to display calender."
   ]
  },
  {
   "cell_type": "code",
   "execution_count": 41,
   "id": "5dabb521",
   "metadata": {},
   "outputs": [
    {
     "name": "stdout",
     "output_type": "stream",
     "text": [
      "enter year2033\n",
      "enter month11\n",
      "   November 2033\n",
      "Mo Tu We Th Fr Sa Su\n",
      "    1  2  3  4  5  6\n",
      " 7  8  9 10 11 12 13\n",
      "14 15 16 17 18 19 20\n",
      "21 22 23 24 25 26 27\n",
      "28 29 30\n",
      "\n"
     ]
    }
   ],
   "source": [
    "import calendar as cd\n",
    "a=int(input(\"enter year\"))\n",
    "b=int(input(\"enter month\"))\n",
    "if b<=12:print(cd.month(a,b))\n",
    "else:print(\"invalid month number\")"
   ]
  },
  {
   "cell_type": "markdown",
   "id": "c5f0d122",
   "metadata": {},
   "source": [
    "###### 4.write a python program to solve quadratic equation?"
   ]
  },
  {
   "cell_type": "code",
   "execution_count": 43,
   "id": "ea6b88bc",
   "metadata": {},
   "outputs": [
    {
     "name": "stdout",
     "output_type": "stream",
     "text": [
      "enter a value2\n",
      "enter b value3\n",
      "enter c value4\n",
      "roots are imaginary\n",
      "-0.75  + i 4.795831523312719\n",
      "-0.75  - i 4.795831523312719\n"
     ]
    }
   ],
   "source": [
    "import math as m\n",
    "a=float(input(\"enter a value\"))\n",
    "b=float(input(\"enter b value\"))\n",
    "c=float(input(\"enter c value\"))\n",
    "d=(b**2)-(4*a*c)\n",
    "sq=m.sqrt(abs(d))\n",
    "if d>0:\n",
    "    print(\"root are real and imaginary\")\n",
    "    print((-b + sq)/(2 * a)) \n",
    "    print((-b - sq)/(2 * a))\n",
    "elif d==0:\n",
    "    print(\"roots are real and same\") \n",
    "    print(-b / (2 * a))\n",
    "else:\n",
    "    print(\"roots are imaginary\") \n",
    "    print(- b / (2 * a), \" + i\", sq) \n",
    "    print(- b / (2 * a), \" - i\", sq) "
   ]
  },
  {
   "cell_type": "markdown",
   "id": "be7f8cf8",
   "metadata": {},
   "source": [
    "###### 5.write a python program to swap twp variables with out temp variable?"
   ]
  },
  {
   "cell_type": "code",
   "execution_count": 44,
   "id": "ab0817b0",
   "metadata": {},
   "outputs": [
    {
     "name": "stdout",
     "output_type": "stream",
     "text": [
      "10 20\n"
     ]
    }
   ],
   "source": [
    "a=20\n",
    "b=10\n",
    "a=a+b\n",
    "b=a-b\n",
    "a=a-b\n",
    "print(a,b)"
   ]
  }
 ],
 "metadata": {
  "kernelspec": {
   "display_name": "Python 3",
   "language": "python",
   "name": "python3"
  },
  "language_info": {
   "codemirror_mode": {
    "name": "ipython",
    "version": 3
   },
   "file_extension": ".py",
   "mimetype": "text/x-python",
   "name": "python",
   "nbconvert_exporter": "python",
   "pygments_lexer": "ipython3",
   "version": "3.8.8"
  }
 },
 "nbformat": 4,
 "nbformat_minor": 5
}
