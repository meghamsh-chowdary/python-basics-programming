{
 "cells": [
  {
   "cell_type": "markdown",
   "id": "06f10b6f",
   "metadata": {},
   "source": [
    "### Assignment_12(programming)"
   ]
  },
  {
   "cell_type": "markdown",
   "id": "a18314e4",
   "metadata": {},
   "source": [
    "#### 1.Write a Python program to Extract Unique values dictionary values?"
   ]
  },
  {
   "cell_type": "code",
   "execution_count": 3,
   "id": "b0802ea7",
   "metadata": {},
   "outputs": [
    {
     "name": "stdout",
     "output_type": "stream",
     "text": [
      "the unique values of the dictionarya are  {1, 2, 3, 4, 5, 6, 7, 8, 9, 10, 11, 12, 13}\n"
     ]
    }
   ],
   "source": [
    "try:\n",
    "    def uniqueFinder(dic):\n",
    "        values=[]\n",
    "        for val in dic.values():\n",
    "            for a in val:\n",
    "                values.append(a)\n",
    "        return set(values)\n",
    "    a={\"a\":[1,2,3,4],\n",
    "       \"b\":[4,5,6,7],\n",
    "       \"c\":[7,8,9,10],\n",
    "       \"d\":[10,11,12,13]}\n",
    "    print(\"the unique values of the dictionarya are \",uniqueFinder(a))\n",
    "except Exception as e:\n",
    "    print(e)"
   ]
  },
  {
   "cell_type": "markdown",
   "id": "4bb59d0b",
   "metadata": {},
   "source": [
    "#### 2.Write a Python program to find the sum of all items in a dictionary?"
   ]
  },
  {
   "cell_type": "code",
   "execution_count": 24,
   "id": "774c709c",
   "metadata": {},
   "outputs": [
    {
     "name": "stdout",
     "output_type": "stream",
     "text": [
      "the sum of the items of the dictioinary is  112\n"
     ]
    }
   ],
   "source": [
    "try:\n",
    "    def summer(dic):\n",
    "        sum=0\n",
    "        for i in dic.values():\n",
    "            if type(i)==list:\n",
    "                for j in i:\n",
    "                    sum+=j\n",
    "            else:sum+=i\n",
    "        return sum\n",
    "    a={\"a\":[1,2,3,4],\n",
    "       \"b\":[4,5,6,7],\n",
    "       \"c\":[7,8,9,10],\n",
    "       \"d\":[10,11,12,13]}\n",
    "    print(\"the sum of the items of the dictioinary is \",summer(a))\n",
    "except Exception as e:\n",
    "    print(e)"
   ]
  },
  {
   "cell_type": "markdown",
   "id": "90255624",
   "metadata": {},
   "source": [
    "#### 3. Write a Python program to Merging two Dictionaries?"
   ]
  },
  {
   "cell_type": "code",
   "execution_count": 27,
   "id": "f82ec622",
   "metadata": {},
   "outputs": [
    {
     "name": "stdout",
     "output_type": "stream",
     "text": [
      "the dictionary after merging is {'a': 1, 'b': 2, 'c': 3, 'd': 4, 'e': 5, 'f': 6, 'g': 7, 'h': 8}\n"
     ]
    }
   ],
   "source": [
    "try:\n",
    "    def merger(dict_a,dict_b):\n",
    "        dict_a.update(dict_b)\n",
    "        return dict_a\n",
    "        \n",
    "    dict_a={\"a\":1,\"b\":2,\"c\":3,\"d\":4}\n",
    "    dict_b={\"e\":5,\"f\":6,\"g\":7,\"h\":8}\n",
    "    print(\"the dictionary after merging is\", merger(dict_a,dict_b))\n",
    "except Exception as e:\n",
    "    print(e)"
   ]
  },
  {
   "cell_type": "markdown",
   "id": "a9c8e696",
   "metadata": {},
   "source": [
    "#### 4.Write a Python program to convert key-values list to flat dictionary?"
   ]
  },
  {
   "cell_type": "code",
   "execution_count": 2,
   "id": "80deb6bc",
   "metadata": {},
   "outputs": [
    {
     "name": "stdout",
     "output_type": "stream",
     "text": [
      "The list after zipping is {1: 5, 2: 6, 3: 7, 4: 8}\n"
     ]
    }
   ],
   "source": [
    "try:\n",
    "    def zipper(list_1,list_2):\n",
    "        return dict(zip(list_1,list_2))\n",
    "    a=[1,2,3,4]\n",
    "    b=[5,6,7,8]\n",
    "    print(\"The list after zipping is\",zipper(a,b))\n",
    "except Exception as e:\n",
    "    print(e)\n",
    "    "
   ]
  },
  {
   "cell_type": "markdown",
   "id": "0522fb76",
   "metadata": {},
   "source": [
    "#### 5.Write a Python program to insertion at the beginning in OrderedDict?"
   ]
  },
  {
   "cell_type": "code",
   "execution_count": 2,
   "id": "d0975282",
   "metadata": {},
   "outputs": [
    {
     "name": "stdout",
     "output_type": "stream",
     "text": [
      "Resultant Dictionary : OrderedDict([('Python', '3'), ('Hello', '1'), ('world', '2')])\n"
     ]
    }
   ],
   "source": [
    "from collections import OrderedDict\n",
    "iniordered_dict = OrderedDict([('Hello','1'), ('world','2')])\n",
    "iniordered_dict.update({'Python':'3'})\n",
    "iniordered_dict.move_to_end('Python', last = False)\n",
    "print (\"Resultant Dictionary : \"+str(iniordered_dict))"
   ]
  },
  {
   "cell_type": "markdown",
   "id": "f8527dd3",
   "metadata": {},
   "source": [
    "#### 6.Write a Python program to check order of character in string using OrderedDict()?"
   ]
  },
  {
   "cell_type": "code",
   "execution_count": 12,
   "id": "45f2dc20",
   "metadata": {},
   "outputs": [
    {
     "name": "stdout",
     "output_type": "stream",
     "text": [
      "enter the stringengineers rock\n",
      "enter the patternegr\n",
      " the pattern is matched\n"
     ]
    }
   ],
   "source": [
    "from collections import OrderedDict\n",
    "try:\n",
    "    def patternChecker(a,b):\n",
    "        dict=OrderedDict.fromkeys(a)\n",
    "        i=0\n",
    "        for key,value in dict.items():\n",
    "            if key==b[i]:\n",
    "                i+=1\n",
    "            if i==len(b):return True\n",
    "        return False\n",
    "                \n",
    "            \n",
    "    a=input(\"enter the string\")\n",
    "    b=input(\"enter the pattern\")\n",
    "    if patternChecker(a,b):print(\" the pattern is matched\")\n",
    "    else:print(\"The pattern is not matched\")\n",
    "except Exception as e:\n",
    "    print(e)"
   ]
  },
  {
   "cell_type": "markdown",
   "id": "9ec58e27",
   "metadata": {},
   "source": [
    "#### 7.Write a Python program to sort Python Dictionaries by Key or Value?"
   ]
  },
  {
   "cell_type": "code",
   "execution_count": 16,
   "id": "06ec14ba",
   "metadata": {},
   "outputs": [
    {
     "name": "stdout",
     "output_type": "stream",
     "text": [
      "[1, 3, 5, 6, 7]\n",
      "{1: 2, 3: 2, 5: 4, 6: 4, 7: 10}\n"
     ]
    }
   ],
   "source": [
    "a={1:2,3:1,6:4,7:8,5:4,3:2,7:10}\n",
    "b=sorted(a.keys())\n",
    "c={}\n",
    "for i in b:\n",
    "    c.update({i:a[i]})\n",
    "print(c)"
   ]
  }
 ],
 "metadata": {
  "kernelspec": {
   "display_name": "Python 3 (ipykernel)",
   "language": "python",
   "name": "python3"
  },
  "language_info": {
   "codemirror_mode": {
    "name": "ipython",
    "version": 3
   },
   "file_extension": ".py",
   "mimetype": "text/x-python",
   "name": "python",
   "nbconvert_exporter": "python",
   "pygments_lexer": "ipython3",
   "version": "3.9.12"
  }
 },
 "nbformat": 4,
 "nbformat_minor": 5
}
