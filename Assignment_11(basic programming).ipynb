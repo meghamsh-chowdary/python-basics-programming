{
 "cells": [
  {
   "cell_type": "markdown",
   "id": "297196e5",
   "metadata": {},
   "source": [
    "### Assignment_11"
   ]
  },
  {
   "cell_type": "markdown",
   "id": "c547f448",
   "metadata": {},
   "source": [
    "#### 1.Write a Python program to find words which are greater than given length k?"
   ]
  },
  {
   "cell_type": "code",
   "execution_count": 4,
   "id": "d5c73e1d",
   "metadata": {},
   "outputs": [
    {
     "name": "stdout",
     "output_type": "stream",
     "text": [
      "Enter the string: Hello! how are you meghamsh?\n",
      "4\n",
      "The words greater then the given size k are  ['Hello!', 'meghamsh?']\n"
     ]
    }
   ],
   "source": [
    "def wordsGreaterThenSize(arr,k):\n",
    "    words=[]\n",
    "    arr=arr.split()\n",
    "    for i in arr:\n",
    "        if len(i)>k:\n",
    "            words.append(i)\n",
    "    return words\n",
    "a=input(\"Enter the string: \")\n",
    "k=int(input())\n",
    "print(\"The words greater then the given size k are \",wordsGreaterThenSize(a,k))"
   ]
  },
  {
   "cell_type": "markdown",
   "id": "a0db004f",
   "metadata": {},
   "source": [
    "#### 2.Write a Python program for removing i-th character from a string?"
   ]
  },
  {
   "cell_type": "code",
   "execution_count": 10,
   "id": "b18efcf8",
   "metadata": {},
   "outputs": [
    {
     "name": "stdout",
     "output_type": "stream",
     "text": [
      "enter the string python programming\n",
      "enter the i th position5\n",
      "the string after removal of the ith value is pythn prgramming\n"
     ]
    }
   ],
   "source": [
    "def remove(string,i):\n",
    "    try:\n",
    "        new_string=string.replace(string[i-1],\"\")\n",
    "        return new_string\n",
    "    except Exception as e:\n",
    "        print(e)\n",
    "a=input(\"enter the string \")\n",
    "b=int(input(\"enter the i th position\"))\n",
    "c=remove(a,b)\n",
    "print(\"the string after removal of the ith value is\",end=\" \")\n",
    "print(c)"
   ]
  },
  {
   "cell_type": "markdown",
   "id": "fda110d5",
   "metadata": {},
   "source": [
    "#### 3. Write a Python program to split and join a string?"
   ]
  },
  {
   "cell_type": "code",
   "execution_count": 14,
   "id": "489f00d8",
   "metadata": {},
   "outputs": [
    {
     "name": "stdout",
     "output_type": "stream",
     "text": [
      "enter the stringThis is a stirng\n",
      "The string after spliting is: ['This', 'is', 'a', 'stirng']\n",
      "the string after joining is: This is a stirng\n"
     ]
    }
   ],
   "source": [
    "a=input(\"enter the string\")\n",
    "print(\"The string after spliting is:\",end=\" \")\n",
    "print(a.split(\" \"))\n",
    "print(\"the string after joining is:\",end=\" \")\n",
    "print(\"\".join(a))"
   ]
  },
  {
   "cell_type": "markdown",
   "id": "0878fafd",
   "metadata": {},
   "source": [
    "#### 4.Write a Python to check if a given string is binary string or not?"
   ]
  },
  {
   "cell_type": "code",
   "execution_count": 18,
   "id": "285aabb6",
   "metadata": {},
   "outputs": [
    {
     "name": "stdout",
     "output_type": "stream",
     "text": [
      "enter the binary string101010\n",
      "This is a binary string\n"
     ]
    }
   ],
   "source": [
    "try:\n",
    "    a=input(\"enter the binary string\")\n",
    "    b=\"10\"\n",
    "    for i in a:\n",
    "        if i not in b:\n",
    "            print(\"This is not  binary string\")\n",
    "            break\n",
    "    else:\n",
    "        print(\"This is a binary string\")\n",
    "except Exception as e:\n",
    "    print(e)\n",
    "    "
   ]
  },
  {
   "cell_type": "markdown",
   "id": "26550477",
   "metadata": {},
   "source": [
    "#### 5.Write a Python program to find uncommon words from two Strings?"
   ]
  },
  {
   "cell_type": "code",
   "execution_count": 24,
   "id": "176ccdff",
   "metadata": {},
   "outputs": [
    {
     "name": "stdout",
     "output_type": "stream",
     "text": [
      "enter the frist Stringhill church bell mountain\n",
      "enter the second stringhill temple ring mountain\n",
      "['church', 'bell', 'temple', 'ring']\n"
     ]
    }
   ],
   "source": [
    "try:\n",
    "    a=input(\"enter the frist String\")\n",
    "    b=input(\"enter the second string\")\n",
    "    c=a.split()\n",
    "    d=b.split()\n",
    "    uncommonWords=[]\n",
    "    for i in c:\n",
    "        if i not in d:\n",
    "            uncommonWords.append(i)\n",
    "    for i in d:\n",
    "        if i not in c:\n",
    "            uncommonWords.append(i)\n",
    "    print(uncommonWords)\n",
    "except Exception as e:\n",
    "    print(e)"
   ]
  },
  {
   "cell_type": "markdown",
   "id": "5999ee6d",
   "metadata": {},
   "source": [
    "#### 6.Write a Python to find all duplicate characters in string?"
   ]
  },
  {
   "cell_type": "code",
   "execution_count": 31,
   "id": "29b7a9cc",
   "metadata": {},
   "outputs": [
    {
     "name": "stdout",
     "output_type": "stream",
     "text": [
      "enter the stringhello how are you\n",
      "the duplicate elements of the string are\n",
      "h e l o  \n"
     ]
    }
   ],
   "source": [
    "try:\n",
    "    a=input(\"enter the string\")\n",
    "    duplicate=[]\n",
    "    for i in a:\n",
    "        c=a.count(i)\n",
    "        if c>1:\n",
    "            if i not in duplicate:\n",
    "                duplicate.append(i)\n",
    "    print(\"the duplicate elements of the string are\",sep=\" \")\n",
    "    print(*duplicate,sep=\" \")\n",
    "except Exception as e:\n",
    "    print(e)"
   ]
  },
  {
   "cell_type": "markdown",
   "id": "9e2e4b0e",
   "metadata": {},
   "source": [
    "#### 7.Write a Python Program to check if a string contains any special character?"
   ]
  },
  {
   "cell_type": "code",
   "execution_count": 1,
   "id": "0bcf5b82",
   "metadata": {},
   "outputs": [
    {
     "name": "stdout",
     "output_type": "stream",
     "text": [
      "he@#@!llo%#@\n",
      "['@', '#', '@', '!', '%', '#', '@']\n"
     ]
    }
   ],
   "source": [
    "a=input()\n",
    "b=\"\"\"!\"#$%&'()*+,-./:;<=>?@[\\]^_`{|}~\"\"\"\n",
    "specialCharacters=[]\n",
    "for i in a:\n",
    "    if i in b:\n",
    "        specialCharacters.append(i)\n",
    "print(specialCharacters)"
   ]
  }
 ],
 "metadata": {
  "kernelspec": {
   "display_name": "Python 3 (ipykernel)",
   "language": "python",
   "name": "python3"
  },
  "language_info": {
   "codemirror_mode": {
    "name": "ipython",
    "version": 3
   },
   "file_extension": ".py",
   "mimetype": "text/x-python",
   "name": "python",
   "nbconvert_exporter": "python",
   "pygments_lexer": "ipython3",
   "version": "3.9.12"
  }
 },
 "nbformat": 4,
 "nbformat_minor": 5
}
