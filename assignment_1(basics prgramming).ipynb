{
 "cells": [
  {
   "cell_type": "markdown",
   "id": "7eef8cd6",
   "metadata": {},
   "source": [
    "## Assiginment_1 python programming (basics)"
   ]
  },
  {
   "cell_type": "markdown",
   "id": "d8321bd9",
   "metadata": {},
   "source": [
    "###### 1.write a python program to print hello world."
   ]
  },
  {
   "cell_type": "code",
   "execution_count": 7,
   "id": "b82458bc",
   "metadata": {},
   "outputs": [
    {
     "name": "stdout",
     "output_type": "stream",
     "text": [
      "Hello World!\n"
     ]
    }
   ],
   "source": [
    "print(\"Hello World!\")"
   ]
  },
  {
   "cell_type": "markdown",
   "id": "9a068468",
   "metadata": {},
   "source": [
    "###### 2.write a python program to do arithmetic operations addition add division."
   ]
  },
  {
   "cell_type": "code",
   "execution_count": 8,
   "id": "9217f8aa",
   "metadata": {},
   "outputs": [
    {
     "name": "stdout",
     "output_type": "stream",
     "text": [
      "15\n",
      "2.0\n"
     ]
    }
   ],
   "source": [
    "a=10\n",
    "b=5\n",
    "print(a+b)\n",
    "print(a/b)"
   ]
  },
  {
   "cell_type": "markdown",
   "id": "05186fc2",
   "metadata": {},
   "source": [
    "###### 3.Write a python program to find area of triangle."
   ]
  },
  {
   "cell_type": "code",
   "execution_count": 10,
   "id": "29a02742",
   "metadata": {},
   "outputs": [
    {
     "name": "stdout",
     "output_type": "stream",
     "text": [
      "enter the length5\n",
      "enter the height6\n",
      "15.0\n"
     ]
    }
   ],
   "source": [
    "a=int(input(\"enter the length\"))\n",
    "b=int(input(\"enter the height\"))\n",
    "area=0.5*a*b\n",
    "print(area)\n"
   ]
  },
  {
   "cell_type": "markdown",
   "id": "b45f1380",
   "metadata": {},
   "source": [
    "###### 4.write a python program to swap two numbers"
   ]
  },
  {
   "cell_type": "code",
   "execution_count": 13,
   "id": "95f12e43",
   "metadata": {},
   "outputs": [
    {
     "name": "stdout",
     "output_type": "stream",
     "text": [
      "20 10\n"
     ]
    }
   ],
   "source": [
    "a=10\n",
    "b=20\n",
    "a=a+b\n",
    "b=a-b\n",
    "a=a-b\n",
    "print(a,b)"
   ]
  },
  {
   "cell_type": "markdown",
   "id": "de620ff7",
   "metadata": {},
   "source": [
    "###### 5.write a python program to generate a random number?"
   ]
  },
  {
   "cell_type": "code",
   "execution_count": 29,
   "id": "3afe0656",
   "metadata": {},
   "outputs": [
    {
     "name": "stdout",
     "output_type": "stream",
     "text": [
      "10\n"
     ]
    }
   ],
   "source": [
    "import random as rd\n",
    "print(rd.randint(1,10))"
   ]
  }
 ],
 "metadata": {
  "kernelspec": {
   "display_name": "Python 3",
   "language": "python",
   "name": "python3"
  },
  "language_info": {
   "codemirror_mode": {
    "name": "ipython",
    "version": 3
   },
   "file_extension": ".py",
   "mimetype": "text/x-python",
   "name": "python",
   "nbconvert_exporter": "python",
   "pygments_lexer": "ipython3",
   "version": "3.8.8"
  }
 },
 "nbformat": 4,
 "nbformat_minor": 5
}
