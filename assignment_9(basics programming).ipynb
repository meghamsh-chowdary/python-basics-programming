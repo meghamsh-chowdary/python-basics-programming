{
 "cells": [
  {
   "cell_type": "markdown",
   "id": "e9a0ecf1",
   "metadata": {},
   "source": [
    "## Assiginment_9 python programming (basics)"
   ]
  },
  {
   "cell_type": "markdown",
   "id": "665d2335",
   "metadata": {},
   "source": [
    "###### 1.Write a Python program to check if the given number is a Disarium Number?"
   ]
  },
  {
   "cell_type": "code",
   "execution_count": 12,
   "id": "2b249085",
   "metadata": {},
   "outputs": [
    {
     "name": "stdout",
     "output_type": "stream",
     "text": [
      "175\n",
      "diarium number\n"
     ]
    }
   ],
   "source": [
    "a=int(input())\n",
    "c=a\n",
    "s=0\n",
    "for i in range(len(str(a)),0,-1):\n",
    "    d=a%10\n",
    "    s+=d**i\n",
    "    a=a//10\n",
    "if s==c:print(\"diarium number\")\n",
    "else:print(\"Not diarium\")"
   ]
  },
  {
   "cell_type": "markdown",
   "id": "6549cab6",
   "metadata": {},
   "source": [
    "###### Write a Python program to print all disarium numbers between 1 to 100?"
   ]
  },
  {
   "cell_type": "code",
   "execution_count": 13,
   "id": "1314e642",
   "metadata": {},
   "outputs": [
    {
     "name": "stdout",
     "output_type": "stream",
     "text": [
      "enter the range: 1000\n",
      "1,2,3,4,5,6,7,8,9,89,135,175,518,598,"
     ]
    }
   ],
   "source": [
    "i=int(input(\"enter the range: \"))\n",
    "for a in range(1,i):\n",
    "    c=a\n",
    "    s=0\n",
    "    for i in range(len(str(a)),0,-1):\n",
    "        d=a%10\n",
    "        s+=d**i\n",
    "        a=a//10\n",
    "    if s==c:print(s,end=\",\")\n",
    "    else:continue"
   ]
  },
  {
   "cell_type": "markdown",
   "id": "c4a7512d",
   "metadata": {},
   "source": [
    "###### 3.Write a Python program to check if the given number is Happy Number?"
   ]
  },
  {
   "cell_type": "code",
   "execution_count": 18,
   "id": "09f404bd",
   "metadata": {},
   "outputs": [
    {
     "name": "stdout",
     "output_type": "stream",
     "text": [
      "19\n",
      "19 is a Happy number\n"
     ]
    }
   ],
   "source": [
    "# Python3 program to check if a number is a Happy number or not.\n",
    "# Method - returns true if the input is\n",
    "# a happy number else returns false\n",
    "def isHappynumber(n):\n",
    "\tif n == 1 or n == 7:\n",
    "\t\treturn True\n",
    "\tSum, x = n, n\n",
    "\t# This loop executes till the sum\n",
    "\t# of square of digits obtained is\n",
    "\t# not a single digit number\n",
    "\twhile Sum > 9:\n",
    "\t\tSum = 0\n",
    "\t\t# This loop finds the sum of\n",
    "\t\t# square of digits\n",
    "\t\twhile x > 0:\n",
    "\t\t\td = x % 10\n",
    "\t\t\tSum += d * d\n",
    "\t\t\tx = x // 10\n",
    "\t\tif Sum == 1:\n",
    "\t\t\treturn True\n",
    "\t\tx = Sum\n",
    "\tif Sum == 7:\n",
    "\t\treturn True\n",
    "\treturn False\n",
    "n = int(input())\n",
    "if isHappynumber(n):\n",
    "\tprint(n, \"is a Happy number\")\n",
    "else:\n",
    "\tprint(n, \"is not a Happy number\")"
   ]
  },
  {
   "cell_type": "markdown",
   "id": "09643472",
   "metadata": {},
   "source": [
    "###### 4.Write a Python program to print all happy numbers between 1 and 100?"
   ]
  },
  {
   "cell_type": "code",
   "execution_count": 19,
   "id": "249c0ef6",
   "metadata": {},
   "outputs": [
    {
     "name": "stdout",
     "output_type": "stream",
     "text": [
      "enter the range: 100\n",
      "1 is a Happy number\n",
      "7 is a Happy number\n",
      "10 is a Happy number\n",
      "13 is a Happy number\n",
      "19 is a Happy number\n",
      "23 is a Happy number\n",
      "28 is a Happy number\n",
      "31 is a Happy number\n",
      "32 is a Happy number\n",
      "44 is a Happy number\n",
      "49 is a Happy number\n",
      "68 is a Happy number\n",
      "70 is a Happy number\n",
      "79 is a Happy number\n",
      "82 is a Happy number\n",
      "86 is a Happy number\n",
      "91 is a Happy number\n",
      "94 is a Happy number\n",
      "97 is a Happy number\n"
     ]
    }
   ],
   "source": [
    "# Python3 program to check if a number is a Happy number or not.\n",
    "# Method - returns true if the input is\n",
    "# a happy number else returns false\n",
    "def isHappynumber(n):\n",
    "\tif n == 1 or n == 7:\n",
    "\t\treturn True\n",
    "\tSum, x = n, n\n",
    "\t# This loop executes till the sum\n",
    "\t# of square of digits obtained is\n",
    "\t# not a single digit number\n",
    "\twhile Sum > 9:\n",
    "\t\tSum = 0\n",
    "\t\t# This loop finds the sum of\n",
    "\t\t# square of digits\n",
    "\t\twhile x > 0:\n",
    "\t\t\td = x % 10\n",
    "\t\t\tSum += d * d\n",
    "\t\t\tx = x // 10\n",
    "\t\tif Sum == 1:\n",
    "\t\t\treturn True\n",
    "\t\tx = Sum\n",
    "\tif Sum == 7:\n",
    "\t\treturn True\n",
    "\treturn False\n",
    "n = int(input(\"enter the range: \"))\n",
    "for i in range(n):\n",
    "    if isHappynumber(i):\n",
    "        print(i, \"is a Happy number\")\n",
    "    else:\n",
    "        continue"
   ]
  },
  {
   "cell_type": "markdown",
   "id": "87f2c8d7",
   "metadata": {},
   "source": [
    "###### 5. Write a Python program to determine whether the given number is a Harshad Number?"
   ]
  },
  {
   "cell_type": "code",
   "execution_count": 25,
   "id": "c1b164d5",
   "metadata": {},
   "outputs": [
    {
     "name": "stdout",
     "output_type": "stream",
     "text": [
      "12\n",
      "Harshad number\n"
     ]
    }
   ],
   "source": [
    "a=int(input())\n",
    "b=str(a)\n",
    "s=0\n",
    "for i in b:\n",
    "    s+=int(i)\n",
    "if a%s==0:print(\"Harshad number\")\n",
    "else:print(\"not harshad number\")"
   ]
  },
  {
   "cell_type": "markdown",
   "id": "c3911540",
   "metadata": {},
   "source": [
    "###### 6.Write a Python program to print all pronic numbers between 1 and 100?"
   ]
  },
  {
   "cell_type": "code",
   "execution_count": 30,
   "id": "d8b6f4c4",
   "metadata": {},
   "outputs": [
    {
     "name": "stdout",
     "output_type": "stream",
     "text": [
      "enter the range: 100\n",
      "1  is a harshad number\n",
      "2  is a harshad number\n",
      "3  is a harshad number\n",
      "4  is a harshad number\n",
      "5  is a harshad number\n",
      "6  is a harshad number\n",
      "7  is a harshad number\n",
      "8  is a harshad number\n",
      "9  is a harshad number\n",
      "10  is a harshad number\n",
      "12  is a harshad number\n",
      "18  is a harshad number\n",
      "20  is a harshad number\n",
      "21  is a harshad number\n",
      "24  is a harshad number\n",
      "27  is a harshad number\n",
      "30  is a harshad number\n",
      "36  is a harshad number\n",
      "40  is a harshad number\n",
      "42  is a harshad number\n",
      "45  is a harshad number\n",
      "48  is a harshad number\n",
      "50  is a harshad number\n",
      "54  is a harshad number\n",
      "60  is a harshad number\n",
      "63  is a harshad number\n",
      "70  is a harshad number\n",
      "72  is a harshad number\n",
      "80  is a harshad number\n",
      "81  is a harshad number\n",
      "84  is a harshad number\n",
      "90  is a harshad number\n"
     ]
    }
   ],
   "source": [
    "x=int(input(\"enter the range: \"))\n",
    "for a in range(1,x):\n",
    "    b=str(a)\n",
    "    s=0\n",
    "    for i in b:\n",
    "        s+=int(i)\n",
    "    if a%s==0:print(a,\" is a harshad number\")\n",
    "    else:continue"
   ]
  }
 ],
 "metadata": {
  "kernelspec": {
   "display_name": "Python 3",
   "language": "python",
   "name": "python3"
  },
  "language_info": {
   "codemirror_mode": {
    "name": "ipython",
    "version": 3
   },
   "file_extension": ".py",
   "mimetype": "text/x-python",
   "name": "python",
   "nbconvert_exporter": "python",
   "pygments_lexer": "ipython3",
   "version": "3.8.8"
  }
 },
 "nbformat": 4,
 "nbformat_minor": 5
}
