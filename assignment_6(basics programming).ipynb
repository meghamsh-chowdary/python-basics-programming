{
 "cells": [
  {
   "cell_type": "markdown",
   "id": "e9a0ecf1",
   "metadata": {},
   "source": [
    "## Assiginment_6 python programming (basics)"
   ]
  },
  {
   "cell_type": "markdown",
   "id": "665d2335",
   "metadata": {},
   "source": [
    "###### 1.write a python program to display fibonacci using recursion?"
   ]
  },
  {
   "cell_type": "code",
   "execution_count": 17,
   "id": "77c9f78e",
   "metadata": {},
   "outputs": [
    {
     "name": "stdout",
     "output_type": "stream",
     "text": [
      "enter the range10\n",
      "the sequence is:\n",
      "1 1 2 3 5 8 13 21 34 55 "
     ]
    }
   ],
   "source": [
    "def fib(n):\n",
    "    if n<=1:\n",
    "        return n\n",
    "    else:\n",
    "        return (fib(n-1)+fib(n-2))\n",
    "b=int(input(\"enter the range\"))\n",
    "print(\"the sequence is:\")\n",
    "for i in range(1,b+1):\n",
    "    print(fib(i),end=\" \")"
   ]
  },
  {
   "cell_type": "markdown",
   "id": "6549cab6",
   "metadata": {},
   "source": [
    "###### 2.write a python program to find factorial of a number using recursion?"
   ]
  },
  {
   "cell_type": "code",
   "execution_count": 25,
   "id": "1314e642",
   "metadata": {},
   "outputs": [
    {
     "name": "stdout",
     "output_type": "stream",
     "text": [
      "enter the number3\n",
      "6\n"
     ]
    }
   ],
   "source": [
    "def fac(n):\n",
    "    if n==1:\n",
    "        return n\n",
    "    else:\n",
    "        return n*fac(n-1)\n",
    "a=int(input(\"enter the number\"))\n",
    "print(\"the factorial is\")\n",
    "print(fac(a))"
   ]
  },
  {
   "cell_type": "markdown",
   "id": "c4a7512d",
   "metadata": {},
   "source": [
    "###### 3.Write a python program to calculate the BMI?"
   ]
  },
  {
   "cell_type": "code",
   "execution_count": 29,
   "id": "d3422328",
   "metadata": {},
   "outputs": [
    {
     "name": "stdout",
     "output_type": "stream",
     "text": [
      "enter the weight in kgs: 70\n",
      "enter the height in meters: 1.8\n",
      "bmi is 21.604938271604937\n"
     ]
    }
   ],
   "source": [
    "a=int(input(\"enter the weight in kgs: \"))\n",
    "b=float(input(\"enter the height in meters: \"))\n",
    "print(\"bmi is\",a/(b**2))"
   ]
  },
  {
   "cell_type": "markdown",
   "id": "09643472",
   "metadata": {},
   "source": [
    "###### 4.write a python program to calculate naural logarithm of n."
   ]
  },
  {
   "cell_type": "code",
   "execution_count": 32,
   "id": "d7a2bbd3",
   "metadata": {},
   "outputs": [
    {
     "name": "stdout",
     "output_type": "stream",
     "text": [
      "enter the number 2\n",
      "0.6931471805599453\n"
     ]
    }
   ],
   "source": [
    "import math\n",
    "a=int(input(\"enter the number \"))\n",
    "print(math.log(a))"
   ]
  },
  {
   "cell_type": "markdown",
   "id": "87f2c8d7",
   "metadata": {},
   "source": [
    "###### 5.write a python program to find the cude sum of first n natural number?"
   ]
  },
  {
   "cell_type": "code",
   "execution_count": 36,
   "id": "c1b164d5",
   "metadata": {},
   "outputs": [
    {
     "name": "stdout",
     "output_type": "stream",
     "text": [
      "enter the number2\n",
      "9\n"
     ]
    }
   ],
   "source": [
    "a=int(input(\"enter the number\"))\n",
    "if a==0:\n",
    "    print(\"sum is\", 0)\n",
    "else:\n",
    "    sum=0\n",
    "    for i in range(a+1):\n",
    "        sum+=i**3\n",
    "    print(sum)"
   ]
  }
 ],
 "metadata": {
  "kernelspec": {
   "display_name": "Python 3",
   "language": "python",
   "name": "python3"
  },
  "language_info": {
   "codemirror_mode": {
    "name": "ipython",
    "version": 3
   },
   "file_extension": ".py",
   "mimetype": "text/x-python",
   "name": "python",
   "nbconvert_exporter": "python",
   "pygments_lexer": "ipython3",
   "version": "3.8.8"
  }
 },
 "nbformat": 4,
 "nbformat_minor": 5
}
