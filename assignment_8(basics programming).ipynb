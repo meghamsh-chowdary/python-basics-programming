{
 "cells": [
  {
   "cell_type": "markdown",
   "id": "e9a0ecf1",
   "metadata": {},
   "source": [
    "## Assiginment_8 python programming (basics)"
   ]
  },
  {
   "cell_type": "markdown",
   "id": "665d2335",
   "metadata": {},
   "source": [
    "###### 1.Write a Python Program to add two  matrices?"
   ]
  },
  {
   "cell_type": "code",
   "execution_count": 19,
   "id": "2b249085",
   "metadata": {},
   "outputs": [
    {
     "name": "stdout",
     "output_type": "stream",
     "text": [
      "Enter the number of rows of first matrix:2\n",
      "Enter the number of columns of first matrix:3\n",
      "Enter the entries rowwise:\n",
      "1\n",
      "2\n",
      "3\n",
      "4\n",
      "5\n",
      "6\n",
      "Enter the number of rows of second matrix:2\n",
      "Enter the number of columns of second matrix:3\n",
      "Enter the entries rowwise:\n",
      "7\n",
      "8\n",
      "9\n",
      "10\n",
      "11\n",
      "12\n",
      "[8, 10, 12]\n",
      "[14, 16, 18]\n"
     ]
    }
   ],
   "source": [
    "# A basic code for matrix input from user\n",
    "R = int(input(\"Enter the number of rows of first matrix:\"))\n",
    "C = int(input(\"Enter the number of columns of first matrix:\"))\n",
    "# Initialize matrix\n",
    "X = []\n",
    "print(\"Enter the entries rowwise:\")\n",
    "# For user input\n",
    "for i in range(R):\t\t # A for loop for row entries\n",
    "\ta =[]\n",
    "\tfor j in range(C):\t # A for loop for column entries\n",
    "\t\ta.append(int(input()))\n",
    "\tX.append(a)\n",
    "# For printing the matrix\n",
    "R1 = int(input(\"Enter the number of rows of second matrix:\"))\n",
    "C1 = int(input(\"Enter the number of columns of second matrix:\"))\n",
    "# Initialize matrix\n",
    "Y = []\n",
    "print(\"Enter the entries rowwise:\")\n",
    "# For user input\n",
    "for i in range(R1):\t\t # A for loop for row entries\n",
    "\ta =[]\n",
    "\tfor j in range(C1):\t # A for loop for column entries\n",
    "\t\ta.append(int(input()))\n",
    "\tY.append(a)\n",
    "# For printing the matrix\n",
    "if R==R1 and C==C1:\n",
    "    result = [[X[i][j] + Y[i][j]  for j in range(len(X[0]))] for i in range(len(X))]\n",
    "    for r in result:\n",
    "        print(r)\n",
    "else:print(\"invalid dimensions\")"
   ]
  },
  {
   "cell_type": "markdown",
   "id": "c8a1224d",
   "metadata": {},
   "source": [
    "`or`"
   ]
  },
  {
   "cell_type": "code",
   "execution_count": 18,
   "id": "3ed9ff2e",
   "metadata": {},
   "outputs": [
    {
     "name": "stdout",
     "output_type": "stream",
     "text": [
      "no of rows2\n",
      "no of columns3\n",
      "1 2 3 4 5 6\n",
      "[[1 2 3]\n",
      " [4 5 6]]\n",
      "no of rows in second matrix2\n",
      "no of columns in second matrix3\n",
      "7 8 9 10 11 12\n",
      "[[ 7  8  9]\n",
      " [10 11 12]]\n",
      "output matrix is\n",
      "[[ 8 10 12]\n",
      " [14 16 18]]\n"
     ]
    }
   ],
   "source": [
    "import numpy as np\n",
    "try:\n",
    "    a=int(input(\"no of rows\"))\n",
    "    b=int(input(\"no of columns\"))\n",
    "    c=list(map(int,input().split()))\n",
    "    d=np.array(c).reshape(a,b)\n",
    "    print(d)\n",
    "    e=int(input(\"no of rows in second matrix\"))\n",
    "    f=int(input(\"no of columns in second matrix\"))\n",
    "    g=list(map(int,input().split()))\n",
    "    h=np.array(g).reshape(e,f)\n",
    "    print(h)\n",
    "    if a==e and b==f:\n",
    "        x=np.add(d,h)\n",
    "        print(\"output matrix is\")\n",
    "        print(x)\n",
    "    else:\n",
    "        print(\"invalid dimension\")\n",
    "except Exception as e:\n",
    "              print(e)"
   ]
  },
  {
   "cell_type": "markdown",
   "id": "6549cab6",
   "metadata": {},
   "source": [
    "###### Write a Python Program to multiply two matrices?"
   ]
  },
  {
   "cell_type": "code",
   "execution_count": 2,
   "id": "1314e642",
   "metadata": {},
   "outputs": [
    {
     "name": "stdout",
     "output_type": "stream",
     "text": [
      "no of rows3\n",
      "no of columns3\n",
      "1 2 3 4 5 6 7 8 9\n",
      "[[1 2 3]\n",
      " [4 5 6]\n",
      " [7 8 9]]\n",
      "no of rows in second matrix3\n",
      "no of columns in second matrix3\n",
      "10 11 12 13 14 15 16 17 18\n",
      "[[10 11 12]\n",
      " [13 14 15]\n",
      " [16 17 18]]\n",
      "output matrix is\n",
      "84 90 96 \n",
      "201 216 231 \n",
      "318 342 366 \n"
     ]
    }
   ],
   "source": [
    "import numpy as np\n",
    "try:\n",
    "    a=int(input(\"no of rows\"))\n",
    "    b=int(input(\"no of columns\"))\n",
    "    c=list(map(int,input().split()))\n",
    "    d=np.array(c).reshape(a,b)\n",
    "    print(d)\n",
    "    e=int(input(\"no of rows in second matrix\"))\n",
    "    f=int(input(\"no of columns in second matrix\"))\n",
    "    g=list(map(int,input().split()))\n",
    "    h=np.array(g).reshape(e,f)\n",
    "    print(h)\n",
    "    if a==b==e==f:\n",
    "        x=np.dot(d,h)\n",
    "        print(\"output matrix is\")\n",
    "        for r in range(len(x)):\n",
    "            for c in range(len(x[0])):\n",
    "                print(x[r][c],end=\" \")\n",
    "            print()\n",
    "    else:\n",
    "        print(\"invalid dimension\")\n",
    "except Exception as e:\n",
    "              print(e)"
   ]
  },
  {
   "cell_type": "markdown",
   "id": "c4a7512d",
   "metadata": {},
   "source": [
    "###### 3.Write a Python Program to Transpose a Matrix?"
   ]
  },
  {
   "cell_type": "code",
   "execution_count": 12,
   "id": "d3422328",
   "metadata": {},
   "outputs": [
    {
     "name": "stdout",
     "output_type": "stream",
     "text": [
      "no of rows2\n",
      "no of columns4\n",
      "1 2 3 4 5 6 7 8\n",
      "the matrix before transpose is\n",
      "1 2 3 4 \n",
      "5 6 7 8 \n",
      "1 5 \n",
      "2 6 \n",
      "3 7 \n",
      "4 8 \n"
     ]
    }
   ],
   "source": [
    "import numpy as np\n",
    "try:\n",
    "    a=int(input(\"no of rows\"))\n",
    "    b=int(input(\"no of columns\"))\n",
    "    c=list(map(int,input().split()))\n",
    "    d=np.array(c).reshape(a,b)\n",
    "    print(\"the matrix before transpose is\")\n",
    "    for r in range(len(d)):\n",
    "            for c in range(len(d[0])):\n",
    "                print(d[r][c],end=\" \")\n",
    "            print()\n",
    "    a=[[0 for x in range(a)]for j in range(b)]\n",
    "    for i in range(len(d[0])):\n",
    "        for j in range(len(d)):\n",
    "            a[i][j]=d[j][i]\n",
    "    for r in range(len(a)):\n",
    "        for c in range(len(a[0])):\n",
    "            print(a[r][c],end=\" \")\n",
    "        print()\n",
    "except Exception as e:\n",
    "    print(e)"
   ]
  },
  {
   "cell_type": "markdown",
   "id": "09643472",
   "metadata": {},
   "source": [
    "###### 4.Write a Python Program to Sort Words in Alphabetic Order?"
   ]
  },
  {
   "cell_type": "code",
   "execution_count": 3,
   "id": "d7a2bbd3",
   "metadata": {},
   "outputs": [
    {
     "name": "stdout",
     "output_type": "stream",
     "text": [
      " enter a string:Hello hi How are you doing!\n",
      "are doing! hello hi how you "
     ]
    }
   ],
   "source": [
    "a=input(\" enter a string:\")\n",
    "b=[x.lower() for x in a.split()]\n",
    "b.sort()\n",
    "for a in b:\n",
    "    print(a,end=\" \")"
   ]
  },
  {
   "cell_type": "markdown",
   "id": "87f2c8d7",
   "metadata": {},
   "source": [
    "###### 5.Write a Python Program to Remove Punctuation From a String?"
   ]
  },
  {
   "cell_type": "code",
   "execution_count": 8,
   "id": "c1b164d5",
   "metadata": {},
   "outputs": [
    {
     "name": "stdout",
     "output_type": "stream",
     "text": [
      " enter a string:Hello! How are you?\n",
      "Hello How are you\n"
     ]
    }
   ],
   "source": [
    "a=input(\" enter a string:\")\n",
    "pun=\"\"\"!()-[]{};:'\"\\,<>./?@#$%^&*_~\"\"\"\n",
    "for i in a:\n",
    "    if i in pun:\n",
    "        a=a.replace(i,\"\")\n",
    "print(a)"
   ]
  }
 ],
 "metadata": {
  "kernelspec": {
   "display_name": "Python 3",
   "language": "python",
   "name": "python3"
  },
  "language_info": {
   "codemirror_mode": {
    "name": "ipython",
    "version": 3
   },
   "file_extension": ".py",
   "mimetype": "text/x-python",
   "name": "python",
   "nbconvert_exporter": "python",
   "pygments_lexer": "ipython3",
   "version": "3.8.8"
  }
 },
 "nbformat": 4,
 "nbformat_minor": 5
}
