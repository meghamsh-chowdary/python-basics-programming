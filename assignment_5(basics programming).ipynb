{
 "cells": [
  {
   "cell_type": "markdown",
   "id": "a52324f5",
   "metadata": {},
   "source": [
    "## Assiginment_5 python programming (basics)"
   ]
  },
  {
   "cell_type": "markdown",
   "id": "ec7639f3",
   "metadata": {},
   "source": [
    "###### 1.write a python program to find the LCM of a number?"
   ]
  },
  {
   "cell_type": "code",
   "execution_count": 96,
   "id": "bf053ea2",
   "metadata": {},
   "outputs": [
    {
     "name": "stdout",
     "output_type": "stream",
     "text": [
      "enter first number2\n",
      "enter second number3\n",
      "the lcm is 6\n"
     ]
    }
   ],
   "source": [
    "a=int(input(\"enter first number\"))\n",
    "b=int(input(\"enter second number\"))\n",
    "c=max(a,b)\n",
    "while 1:\n",
    "    if c%a==0 and c%b==0:\n",
    "        print(f\"the lcm is {c}\")\n",
    "        break\n",
    "    c+=1"
   ]
  },
  {
   "cell_type": "markdown",
   "id": "ae0f714f",
   "metadata": {},
   "source": [
    "###### 2.write a python program to find HCF?"
   ]
  },
  {
   "cell_type": "code",
   "execution_count": 98,
   "id": "f0ada126",
   "metadata": {},
   "outputs": [
    {
     "name": "stdout",
     "output_type": "stream",
     "text": [
      "enter first number55\n",
      "enter second number43\n",
      "the gcd is 1\n"
     ]
    }
   ],
   "source": [
    "a=int(input(\"enter first number\"))\n",
    "b=int(input(\"enter second number\"))\n",
    "t=a%b\n",
    "while t!=0:\n",
    "    a=b\n",
    "    b=t\n",
    "    t=a%b\n",
    "print(f\"the gcd is {b}\")"
   ]
  },
  {
   "cell_type": "markdown",
   "id": "1f42c977",
   "metadata": {},
   "source": [
    "###### 3.Write a python program to convert decimal to binary,octal and hexadecimal?"
   ]
  },
  {
   "cell_type": "code",
   "execution_count": 109,
   "id": "6ba76eb9",
   "metadata": {},
   "outputs": [
    {
     "name": "stdout",
     "output_type": "stream",
     "text": [
      "enter the decimal number567\n",
      "the binary value is  1000110111\n",
      "the octal value is  1067\n",
      "the hexadecimal value is  237\n"
     ]
    }
   ],
   "source": [
    "a=int(input(\"enter the decimal number\"))\n",
    "b,c,d=bin(a),oct(a),hex(a)\n",
    "print(\"the binary value is \",b[2:])\n",
    "print(\"the octal value is \",c[2:])\n",
    "print(\"the hexadecimal value is \",d[2:])"
   ]
  },
  {
   "cell_type": "markdown",
   "id": "5cb654aa",
   "metadata": {},
   "source": [
    "###### 4.write a python program to find ascii value of character?"
   ]
  },
  {
   "cell_type": "code",
   "execution_count": 113,
   "id": "37d9a9c3",
   "metadata": {},
   "outputs": [
    {
     "name": "stdout",
     "output_type": "stream",
     "text": [
      "enter the character A\n",
      "65\n"
     ]
    }
   ],
   "source": [
    "a=input(\"enter the character \")\n",
    "print(ord(a))"
   ]
  },
  {
   "cell_type": "markdown",
   "id": "ed4b5a64",
   "metadata": {},
   "source": [
    "###### 5.write a python program to make simple calculater with 4 basic operations?"
   ]
  },
  {
   "cell_type": "markdown",
   "id": "60745384",
   "metadata": {},
   "source": [
    "a=int(input(\"enter the first number \"))\n",
    "b=int(input(\"enter the second number \"))\n",
    "c=input(\"enter the operation symbol: \\\"+\\\",\\\"-\\\",\\\"/\\\",\\\"*\\\" \")\n",
    "if c==\"+\":print(a+b)\n",
    "elif c==\"-\":print(a-b)\n",
    "elif c==\"/\":print(a/b)\n",
    "elif c==\"*\":print(a*b)\n",
    "else: print(\"invalid input\")"
   ]
  }
 ],
 "metadata": {
  "kernelspec": {
   "display_name": "Python 3",
   "language": "python",
   "name": "python3"
  },
  "language_info": {
   "codemirror_mode": {
    "name": "ipython",
    "version": 3
   },
   "file_extension": ".py",
   "mimetype": "text/x-python",
   "name": "python",
   "nbconvert_exporter": "python",
   "pygments_lexer": "ipython3",
   "version": "3.8.8"
  }
 },
 "nbformat": 4,
 "nbformat_minor": 5
}
