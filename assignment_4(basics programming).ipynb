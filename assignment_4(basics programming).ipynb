{
 "cells": [
  {
   "cell_type": "markdown",
   "id": "443ee228",
   "metadata": {},
   "source": [
    "## Assiginment_4 python programming (basics)"
   ]
  },
  {
   "cell_type": "markdown",
   "id": "5502d855",
   "metadata": {},
   "source": [
    "###### 1.write a python program to find the Factorial of a number?"
   ]
  },
  {
   "cell_type": "code",
   "execution_count": 60,
   "id": "bfe27828",
   "metadata": {},
   "outputs": [
    {
     "name": "stdout",
     "output_type": "stream",
     "text": [
      "enter a number 9\n",
      "362880\n"
     ]
    }
   ],
   "source": [
    "a=int(input(\"enter a number \"))\n",
    "pro=1\n",
    "for i in range(1,a+1):\n",
    "    pro=pro*i\n",
    "print(pro)"
   ]
  },
  {
   "cell_type": "markdown",
   "id": "b48d96b3",
   "metadata": {},
   "source": [
    "###### 2.write a python program to display the multiplication table?"
   ]
  },
  {
   "cell_type": "code",
   "execution_count": 63,
   "id": "a8da2c31",
   "metadata": {},
   "outputs": [
    {
     "name": "stdout",
     "output_type": "stream",
     "text": [
      "enter a number for table5\n",
      "5 * 1 = 5\n",
      "5 * 2 = 10\n",
      "5 * 3 = 15\n",
      "5 * 4 = 20\n",
      "5 * 5 = 25\n",
      "5 * 6 = 30\n",
      "5 * 7 = 35\n",
      "5 * 8 = 40\n",
      "5 * 9 = 45\n",
      "5 * 10 = 50\n"
     ]
    }
   ],
   "source": [
    "a=int(input(\"enter a number for table\"))\n",
    "for i in range(1,11):\n",
    "    print(f\"{a} * {i} = {a*i}\")"
   ]
  },
  {
   "cell_type": "markdown",
   "id": "edc42d92",
   "metadata": {},
   "source": [
    "###### 3.Write a python program to print the fibonacci series?"
   ]
  },
  {
   "cell_type": "code",
   "execution_count": 74,
   "id": "ef7e087d",
   "metadata": {},
   "outputs": [
    {
     "name": "stdout",
     "output_type": "stream",
     "text": [
      "enter the range 8\n",
      "0,1,1,2,3,5,8,13\n"
     ]
    }
   ],
   "source": [
    "a=int(input(\"enter the range \"))\n",
    "l=[0,1]\n",
    "if a==0:\n",
    "    print(\"invalid input\")\n",
    "elif a==1:\n",
    "    print(0)\n",
    "else:\n",
    "    for i in range(a-2):\n",
    "        a=l[i]+l[i+1]\n",
    "        l.append(a)\n",
    "    print(*l,sep=\",\")\n",
    "    "
   ]
  },
  {
   "cell_type": "markdown",
   "id": "ecd54852",
   "metadata": {},
   "source": [
    "###### 4.write a python program to check armstrong number?"
   ]
  },
  {
   "cell_type": "code",
   "execution_count": 78,
   "id": "d146c739",
   "metadata": {},
   "outputs": [
    {
     "name": "stdout",
     "output_type": "stream",
     "text": [
      "enter a number153\n",
      "arm strong number\n"
     ]
    }
   ],
   "source": [
    "a=int(input(\"enter a number\"))\n",
    "b=a\n",
    "su=0\n",
    "while(b>9):\n",
    "    c=b%10\n",
    "    su=su+(c**3)\n",
    "    b=b//10\n",
    "su=su+(b**3)\n",
    "if su==a:print(\"armstrong number\")\n",
    "else:print(\"not armstrong number\")\n",
    "    "
   ]
  },
  {
   "cell_type": "markdown",
   "id": "8bf55186",
   "metadata": {},
   "source": [
    "###### 5.write a python program to find armstrong number in an intervel?"
   ]
  },
  {
   "cell_type": "code",
   "execution_count": 84,
   "id": "2d564f67",
   "metadata": {},
   "outputs": [
    {
     "name": "stdout",
     "output_type": "stream",
     "text": [
      "enter the range 500\n",
      "0 1 153 370 371 407 "
     ]
    }
   ],
   "source": [
    "a=int(input(\"enter the range \"))\n",
    "for i in range(a+1):\n",
    "    b=i\n",
    "    su=0\n",
    "    while(b>9):\n",
    "        c=b%10\n",
    "        su=su+(c**3)\n",
    "        b=b//10\n",
    "    su=su+(b**3)\n",
    "    if su==i:print(i,end=\" \")"
   ]
  },
  {
   "cell_type": "markdown",
   "id": "1c665948",
   "metadata": {},
   "source": [
    "###### 6.write a python program to find the sum of natural number?"
   ]
  },
  {
   "cell_type": "code",
   "execution_count": 86,
   "id": "fa144068",
   "metadata": {},
   "outputs": [
    {
     "name": "stdout",
     "output_type": "stream",
     "text": [
      "enter the range 15\n",
      "120\n"
     ]
    }
   ],
   "source": [
    "a=int(input(\"enter the range \"))\n",
    "su=0\n",
    "for i in range(1,a+1):\n",
    "    su=su+i\n",
    "print(su)"
   ]
  }
 ],
 "metadata": {
  "kernelspec": {
   "display_name": "Python 3",
   "language": "python",
   "name": "python3"
  },
  "language_info": {
   "codemirror_mode": {
    "name": "ipython",
    "version": 3
   },
   "file_extension": ".py",
   "mimetype": "text/x-python",
   "name": "python",
   "nbconvert_exporter": "python",
   "pygments_lexer": "ipython3",
   "version": "3.8.8"
  }
 },
 "nbformat": 4,
 "nbformat_minor": 5
}
